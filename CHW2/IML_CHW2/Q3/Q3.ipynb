{
 "cells": [
  {
   "cell_type": "markdown",
   "id": "5f42a3ce",
   "metadata": {},
   "source": [
    "<h1 align=\"center\">Introduction to Machine Learning - 25737-2</h1>\n",
    "<h4 align=\"center\">Dr. R. Amiri</h4>\n",
    "<h4 align=\"center\">Sharif University of Technology, Spring 2024</h4>\n",
    "\n",
    "\n",
    "**<font color='red'>Plagiarism is strongly prohibited!</font>**\n",
    "\n",
    "\n",
    "**Student Name**: Ehsan Merrikhi \n",
    "\n",
    "**Student ID**: 400101967\n",
    "\n",
    "\n",
    "\n"
   ]
  },
  {
   "cell_type": "markdown",
   "id": "a01c559e",
   "metadata": {},
   "source": [
    "## Importing Libraries\n",
    "\n",
    "First we import libraries that we need for this assignment."
   ]
  },
  {
   "cell_type": "code",
   "execution_count": 135,
   "id": "0423187e",
   "metadata": {
    "metadata": {}
   },
   "outputs": [],
   "source": [
    "import numpy as np\n",
    "import pandas as pd\n",
    "import matplotlib.pyplot as plt\n",
    "from sklearn.model_selection import train_test_split\n",
    "from sklearn.naive_bayes import GaussianNB\n",
    "from sklearn.metrics import accuracy_score\n",
    "from sklearn.discriminant_analysis import LinearDiscriminantAnalysis\n",
    "# import any other libraries needed below"
   ]
  },
  {
   "cell_type": "markdown",
   "id": "2f795731",
   "metadata": {},
   "source": [
    "## Reading Data and Preprocessing\n",
    "\n",
    "In this section, we want to read data from a CSV file and then preprocess it to make it ready for the rest of the problem.\n",
    "\n",
    "First, we read the data in the cell below and extract an $m \\times n$ matrix, $X$, and an $m \\times 1$ vector, $Y$, from it, which represent our knowledge about the features of the data (`X1`, `X2`, `X3`) and the class (`Y`), respectively. Note that by $m$, we mean the number of data points and by $n$, we mean the number of features."
   ]
  },
  {
   "cell_type": "code",
   "execution_count": 136,
   "id": "410e750d",
   "metadata": {
    "metadata": {}
   },
   "outputs": [
    {
     "name": "stdout",
     "output_type": "stream",
     "text": [
      "(10000, 3)\n",
      "(10000,)\n"
     ]
    }
   ],
   "source": [
    "X, Y = None, None\n",
    "\n",
    "### START CODE HERE ###\n",
    "\n",
    "# read data\n",
    "data1 = pd.read_csv('data_logistic.csv')\n",
    "X = data1.drop('Y', axis=1)\n",
    "Y = data1['Y']\n",
    "### END CODE HERE ###\n",
    "\n",
    "print(X.shape)\n",
    "print(Y.shape)"
   ]
  },
  {
   "cell_type": "markdown",
   "id": "866734e2",
   "metadata": {},
   "source": [
    "Next, we should normalize our data. For normalizing a vector $\\mathbf{x}$, a very common method is to use this formula:\n",
    "\n",
    "$$\n",
    "\\mathbf{x}_{norm} = \\dfrac{\\mathbf{x} - \\overline{\\mathbf{x}}}{\\sigma_\\mathbf{x}}\n",
    "$$\n",
    "\n",
    "Here, $\\overline{x}$ and $\\sigma_\\mathbf{x}$ denote the mean and standard deviation of vector $\\mathbf{x}$, respectively. Use this formula and store the new $X$ and $Y$ vectors in the cell below.\n",
    "\n",
    "**Question**: Briefly explain why we need to normalize our data before starting the training.\n",
    "\n",
    "**Answer**:\n",
    "\n",
    "By normalizing we can avoid bias and inconsistencies that may arise due to differences in measurement units or the magnitude of the variables.\n",
    "\n",
    "Normalizing data allows for fair comparisons between different features and variables.\n",
    "\n",
    "It reduces the impact of outliers and extreme values in the data."
   ]
  },
  {
   "cell_type": "code",
   "execution_count": 137,
   "id": "9e757eb0",
   "metadata": {
    "metadata": {}
   },
   "outputs": [],
   "source": [
    "### START CODE HERE ###\n",
    "X_mean = X.mean()\n",
    "X_std = X.std()\n",
    "X = (X-X_mean) / X_std\n",
    "### END CODE HERE ###"
   ]
  },
  {
   "cell_type": "markdown",
   "id": "5465bfa4",
   "metadata": {},
   "source": [
    "Finally, we should add a column of $1$s at the beginning of $X$ to represent the bias term. Do this in the next cell. Note that after this process, $X$ should be an $m \\times (n+1)$ matrix."
   ]
  },
  {
   "cell_type": "code",
   "execution_count": 138,
   "id": "b9a60f1f",
   "metadata": {
    "metadata": {}
   },
   "outputs": [
    {
     "name": "stdout",
     "output_type": "stream",
     "text": [
      "(10000, 4)\n"
     ]
    }
   ],
   "source": [
    "### START CODE HERE ###\n",
    "row_num, col_num = X.shape\n",
    "try:\n",
    "    X.insert(0, \"bias\", np.ones(row_num), allow_duplicates=False)\n",
    "except ValueError:\n",
    "    print(\"Row was already added\")\n",
    "### END CODE HERE ###\n",
    "print(X.shape)"
   ]
  },
  {
   "cell_type": "markdown",
   "id": "5cdf0d78",
   "metadata": {},
   "source": [
    "## Training Model"
   ]
  },
  {
   "cell_type": "markdown",
   "id": "c8714abe",
   "metadata": {},
   "source": [
    "### Sigmoid Function\n",
    "You should begin by implementing the $\\sigma(\\mathbf{x})$ function. Recall that the logistic regression hypothesis $\\mathcal{h}()$ is defined as:\n",
    "$$\n",
    "\\mathcal{h}_{\\theta}(\\mathbf{x}) = \\mathcal{g}(\\theta^\\mathbf{T}\\mathbf{x})\n",
    "$$\n",
    "where $\\mathcal{g}()$ is the sigmoid function as:\n",
    "$$\n",
    "\\mathcal{g}(\\mathbf{z}) = \\frac{1}{1+exp^{-\\mathbf{z}}}\n",
    "$$\n",
    "The Sigmoid function has the property that $\\mathbf{g}(+\\infty)\\approx 1$ and $\\mathcal{g}(−\\infty)\\approx0$. Test your function by calling `sigmoid(z)` on different test samples. Be certain that your sigmoid function works with both vectors and matrices - for either a vector or a matrix, your function should perform the sigmoid function on every element."
   ]
  },
  {
   "cell_type": "code",
   "execution_count": 139,
   "id": "6a6b6ae4",
   "metadata": {
    "metadata": {}
   },
   "outputs": [
    {
     "name": "stdout",
     "output_type": "stream",
     "text": [
      "          bias        X1        X2        X3\n",
      "0     0.731059  0.268821  0.353123  0.299396\n",
      "1     0.731059  0.189449  0.849467  0.449578\n",
      "2     0.731059  0.565221  0.844398  0.655277\n",
      "3     0.731059  0.336021  0.216366  0.330172\n",
      "4     0.731059  0.599493  0.615876  0.409106\n",
      "...        ...       ...       ...       ...\n",
      "9995  0.731059  0.702753  0.758621  0.799507\n",
      "9996  0.731059  0.768382  0.225023  0.847263\n",
      "9997  0.731059  0.794801  0.470322  0.804148\n",
      "9998  0.731059  0.804900  0.682427  0.719907\n",
      "9999  0.731059  0.688492  0.816954  0.701963\n",
      "\n",
      "[10000 rows x 4 columns]\n"
     ]
    }
   ],
   "source": [
    "def sigmoid(Z):\n",
    "    '''\n",
    "    Applies the sigmoid function on every element of Z\n",
    "    Arguments:\n",
    "        Z can be a (n,) vector or (n , m) matrix\n",
    "    Returns:\n",
    "        A vector/matrix, same shape with Z, that has the sigmoid function applied elementwise\n",
    "    '''\n",
    "    ### START CODE HERE ###\n",
    "    nom = 1\n",
    "    denom = 1+np.exp(-Z)\n",
    "    return nom / denom\n",
    "\n",
    "print(sigmoid(Z=X))\n",
    "### END CODE HERE ###"
   ]
  },
  {
   "cell_type": "markdown",
   "id": "83846074",
   "metadata": {},
   "source": [
    "### Cost Function \n",
    "Implement the functions to compute the cost function. Recall the cost function for logistic regression is a scalar value given by:\n",
    "$$\n",
    "\\mathcal{J}(\\theta) = \\sum_{i=1}^{n}[-y^{(i)}\\log{(\\mathcal{h}_\\theta(\\mathbf{x}^{(i)}))}-(1-y^{(i)})\\log{(1-\\mathcal{h}_\\theta(\\mathbf{x}^{(i)}))}] + \\frac{\\lambda}{2}||\\theta||_2^2\n",
    "$$"
   ]
  },
  {
   "cell_type": "code",
   "execution_count": 140,
   "id": "26a9bdeb",
   "metadata": {
    "metadata": {}
   },
   "outputs": [],
   "source": [
    "def computeCost(theta, X, y, regLambda):\n",
    "    '''\n",
    "    Computes the objective function\n",
    "    Arguments:\n",
    "        theta is d-dimensional numpy vector\n",
    "        X is a n-by-d numpy matrix\n",
    "        y is an n-dimensional numpy vector\n",
    "        regLambda is the scalar regularization constant\n",
    "    Returns:\n",
    "        a scalar value of the cost  ** make certain you're not returning a 1 x 1 matrix! **\n",
    "    '''\n",
    "    \n",
    "    m, n = X.shape\n",
    "    loss = 0\n",
    "    ### START CODE HERE ###\n",
    "    h_theta = sigmoid(np.dot(X, theta))\n",
    "    regular_term = (regLambda / (2 * m)) * np.sum(np.linalg.norm(theta, ord=2))\n",
    "    loss = 1/m * np.sum(-y * np.log(h_theta) - (1 - y) * np.log(1 - h_theta)) + regular_term\n",
    "    # print(loss)\n",
    "    ### END CODE HERE ###\n",
    "    return loss"
   ]
  },
  {
   "cell_type": "markdown",
   "id": "6eaf1146",
   "metadata": {},
   "source": [
    "### Gradient of the Cost Function\n",
    "Now, we want to calculate the gradient of the cost function. The gradient of the cost function is a d-dimensional vector.\\\n",
    "We must be careful not to regularize the $\\theta_0$ parameter (corresponding to the first feature we add to each instance), and so the 0's element is given by:\n",
    "$$\n",
    "\\frac{\\partial \\mathcal{J}(\\theta)}{\\partial \\theta_0} = \\sum_{i=1}^n (\\mathcal{h}_\\theta(\\mathbf{x}^{(i)})-y^{(i)})\n",
    "$$\n",
    "\n",
    "Question: What is the answer to this problem for the $j^{th}$ element (for $j=1...d$)?\n",
    "\n",
    "Answer:\n",
    "\n",
    "the gradient for the $j^{th}$ parameter is the average error multiplied by the $j^{th}$ feature, summed over all examples"
   ]
  },
  {
   "cell_type": "code",
   "execution_count": 141,
   "id": "35f7c2dd",
   "metadata": {
    "metadata": {}
   },
   "outputs": [],
   "source": [
    "def computeGradient(theta, X, y, regLambda):\n",
    "    '''\n",
    "    Computes the gradient of the objective function\n",
    "    Arguments:\n",
    "        theta is d-dimensional numpy vector\n",
    "        X is a n-by-d numpy matrix\n",
    "        y is an n-dimensional numpy vector\n",
    "        regLambda is the scalar regularization constant\n",
    "    Returns:\n",
    "        the gradient, an d-dimensional vector\n",
    "    '''\n",
    "    \n",
    "    m, n = X.shape\n",
    "    grad = None\n",
    "    ### START CODE HERE ###\n",
    "    if theta is None:\n",
    "        theta = np.zeros(n) \n",
    "    \n",
    "    h = sigmoid(np.dot(X, theta))\n",
    "    \n",
    "    grad = (1/m) * np.dot(X.T, (h - y))\n",
    "    reg_term = (regLambda / m) * theta\n",
    "    reg_term[0] = 0\n",
    "    grad += reg_term\n",
    "    ### END CODE HERE ###\n",
    "    return grad"
   ]
  },
  {
   "cell_type": "markdown",
   "id": "24bc86bd",
   "metadata": {},
   "source": [
    "### Training and Prediction\n",
    "Once you have the cost and gradient functions complete, implemen tthe fit and predict methods.\\\n",
    "Your fit method should train the model via gradient descent, relying on the cost and gradient functions. This function should return two parameters. The first parameter is $\\theta$, and the second parameter is a `numpy` array that contains the loss in each iteration. This array is indicated by `loss_history` in the code.\\\n",
    "Instead of simply running gradient descent for a specific number of iterations, we will use a more sophisticated method: we will stop it after the solution hasconverged. Stop the gradient descent procedure when $\\theta$ stops changing between consecutive iterations. You can detect this convergence when:\n",
    "$$\n",
    "||\\theta_{new}-\\theta_{old}||_2 <= \\epsilon,\n",
    "$$\n",
    "for some small $\\epsilon$ (e.g, $\\epsilon=10E-4$).\\\n",
    "For readability, we’d recommend implementing this convergence test as a dedicated function `hasConverged`."
   ]
  },
  {
   "cell_type": "code",
   "execution_count": 142,
   "id": "cc0cad78",
   "metadata": {
    "metadata": {}
   },
   "outputs": [],
   "source": [
    "def fit(X, y, regLambda = 0.01, alpha = 0.01, epsilon = 1e-4, maxNumIters = 100):\n",
    "    '''\n",
    "    Trains the model\n",
    "    Arguments:\n",
    "        X           is a n-by-d numpy matrix\n",
    "        y           is an n-dimensional numpy vector\n",
    "        maxNumIters is the maximum number of gradient descent iterations\n",
    "        regLambda   is the scalar regularization constant\n",
    "        epsilon     is the convergence rate\n",
    "        alpha       is the gradient descent learning rate\n",
    "    '''\n",
    "    \n",
    "    m, n = X.shape\n",
    "    theta, theta_old, loss_history = np.zeros(n), np.zeros(n), np.zeros(n)\n",
    "    loss_history = []\n",
    "    ### START CODE HERE ###\n",
    "    # print(\"Hi\")\n",
    "\n",
    "    \n",
    "    for i in range(maxNumIters):\n",
    "        grad = computeGradient(theta, X, y, regLambda)\n",
    "        \n",
    "        if theta is None:\n",
    "            theta = np.zeros(n)\n",
    "        theta = theta - alpha * grad\n",
    "        \n",
    "        loss = computeCost(theta, X, y, regLambda)\n",
    "        loss_history.append(loss)\n",
    "        \n",
    "        if hasConverged(theta_old, theta, epsilon):\n",
    "            print(loss_history)\n",
    "            break\n",
    "        theta_old = theta.copy()\n",
    "    ### END CODE HERE ###\n",
    "    return theta, loss_history\n",
    "\n",
    "\n",
    "\n",
    "\n",
    "def hasConverged(theta_old, theta_new, epsilon):\n",
    "    '''\n",
    "    Return if the theta converged or not\n",
    "    Arguments:\n",
    "        theta_old   is the theta calculated in prevoius iteration\n",
    "        theta_new   is the theta calculated in current iteration\n",
    "        epsilon     is the convergence rate\n",
    "    '''\n",
    "    \n",
    "    ### START CODE HERE ###\n",
    "    if np.linalg.norm(theta_new - theta_old, ord=2) <= epsilon:\n",
    "        return True\n",
    "    ### END CODE HERE ###\n",
    "    return False"
   ]
  },
  {
   "cell_type": "markdown",
   "id": "bb648852",
   "metadata": {},
   "source": [
    "Finally, we want to evaluate our loss for this problem. Complete the cell below to calculate and print the loss of each iteration and the final theta of your model."
   ]
  },
  {
   "cell_type": "code",
   "execution_count": 143,
   "id": "252e556f",
   "metadata": {
    "metadata": {}
   },
   "outputs": [
    {
     "name": "stdout",
     "output_type": "stream",
     "text": [
      "Final Theta: [ 0.14721268 -0.21749975  0.23678323  0.07455369]\n",
      "Loss History:\n"
     ]
    },
    {
     "data": {
      "image/png": "[encoded data removed]",
      "text/plain": [
       "<Figure size 432x288 with 1 Axes>"
      ]
     },
     "metadata": {
      "needs_background": "light"
     },
     "output_type": "display_data"
    }
   ],
   "source": [
    "theta, loss_history = fit(X, Y) # calculating theta and loss of each iteration\n",
    "\n",
    "### START CODE HERE ###\n",
    "print(\"Final Theta:\", theta)\n",
    "print(\"Loss History:\")\n",
    "\n",
    "plt.figure()\n",
    "plt.plot(loss_history, color='magenta')\n",
    "plt.xlabel('Iteration_num')\n",
    "plt.ylabel('Loss Value')\n",
    "plt.title('Loss History')\n",
    "plt.show()\n",
    "# for i, loss in enumerate(loss_history):\n",
    "#     print(f\"Iteration {i+1}: Loss = {loss:.4f}\")\n",
    "### END CODE HERE ###"
   ]
  },
  {
   "cell_type": "markdown",
   "id": "f4b3fab6",
   "metadata": {},
   "source": [
    "### Testing Your Implementation\n",
    "To test your logistic regression implementation, first you should use `train_test_split` function to split dataset into three parts:\n",
    "\n",
    "- 70% for the training set\n",
    "- 20% for the validation set\n",
    "- 10% for the test set\n",
    "\n",
    "Do this in the cell below."
   ]
  },
  {
   "cell_type": "code",
   "execution_count": 144,
   "id": "4518fe11",
   "metadata": {
    "metadata": {}
   },
   "outputs": [
    {
     "name": "stdout",
     "output_type": "stream",
     "text": [
      "X_train shape:  (7000, 3)\n",
      "X_val shape:  (2000, 3)\n",
      "X_test shape:  (1000, 3)\n"
     ]
    }
   ],
   "source": [
    "X_train, Y_train, X_val, Y_val, X_test, Y_test = None, None, None, None, None, None\n",
    "\n",
    "### START CODE HERE ###\n",
    "data = pd.read_csv('data_logistic.csv')\n",
    "X = data.drop('Y', axis=1)\n",
    "Y = data['Y']\n",
    "\n",
    "X_train, X_temp, Y_train, Y_temp = train_test_split(X, Y, test_size=0.3, random_state=67)\n",
    "X_val, X_test, Y_val, Y_test = train_test_split(X_temp, Y_temp, test_size=1/3, random_state=67)\n",
    "\n",
    "print('X_train shape: ',X_train.shape)\n",
    "print('X_val shape: ',X_val.shape)\n",
    "print('X_test shape: ',X_test.shape)\n",
    "### END CODE HERE ###"
   ]
  },
  {
   "cell_type": "markdown",
   "id": "f9fbe5d7",
   "metadata": {},
   "source": [
    "Then, you should complete `predict` function to find the weight vector and the loss on the test data."
   ]
  },
  {
   "cell_type": "code",
   "execution_count": 145,
   "id": "95c2fe20",
   "metadata": {
    "metadata": {}
   },
   "outputs": [],
   "source": [
    "def predict(X, theta):\n",
    "    '''\n",
    "    Use the model to predict values for each instance in X\n",
    "    Arguments:\n",
    "        theta is d-dimensional numpy vector\n",
    "        X     is a n-by-d numpy matrix\n",
    "    Returns:\n",
    "        an n-dimensional numpy vector of the predictions, the output should be binary (use h_theta > .5)\n",
    "    '''\n",
    "    \n",
    "    Y = None\n",
    "    ### START CODE HERE ###\n",
    "    h_theta_x = sigmoid(np.dot(X, theta))\n",
    "    Y = (h_theta_x > 0.5).astype(int)\n",
    "    ### END CODE HERE ###\n",
    "    return Y"
   ]
  },
  {
   "cell_type": "markdown",
   "id": "246d1c02",
   "metadata": {},
   "source": [
    "Now, run the `fit` and `predict` function for different values of the learning rate and regularization constant. Plot the `loss_history` of these different values for train and test data both in the same figure.\n",
    "\n",
    "**Question**: Discuss the effect of the learning rate and regularization constant and find the best values of these parameters.\n",
    "\n",
    "**Answer**:\n",
    "\n",
    "Learning Rate ($\\alpha$): This parameter controls how much the weights in the model are adjusted with respect to the gradient of the loss function. A high learning rate can cause the model to converge quickly but can overshoot the minimum, leading to divergence. A low learning rate ensures more reliable convergence but can make the training process very slow, and the model might get stuck in local minima.\n",
    "\n",
    "Regularization Constant ($\\lambda$): Regularization helps prevent overfitting by adding a penalty term to the loss function. The regularization constant determines the strength of this penalty. A high (\\lambda) can lead to underfitting as it might overly penalize the weights, making them too small. A low (\\lambda) might not effectively prevent overfitting, as the penalty would be insignificant.\n",
    "\n"
   ]
  },
  {
   "cell_type": "code",
   "execution_count": 146,
   "id": "cd2af382",
   "metadata": {
    "metadata": {}
   },
   "outputs": [
    {
     "name": "stderr",
     "output_type": "stream",
     "text": [
      "C:\\Users\\IT CITY\\AppData\\Local\\Temp\\ipykernel_5976\\1631097078.py:18: RuntimeWarning: divide by zero encountered in log\n",
      "  loss = 1/m * np.sum(-y * np.log(h_theta) - (1 - y) * np.log(1 - h_theta)) + regular_term\n",
      "C:\\Users\\IT CITY\\AppData\\Local\\Temp\\ipykernel_5976\\1191766210.py:11: RuntimeWarning: overflow encountered in exp\n",
      "  denom = 1+np.exp(-Z)\n"
     ]
    },
    {
     "data": {
      "image/png": "[encoded data removed]",
      "text/plain": [
       "<Figure size 864x648 with 1 Axes>"
      ]
     },
     "metadata": {
      "needs_background": "light"
     },
     "output_type": "display_data"
    }
   ],
   "source": [
    "import itertools\n",
    "import matplotlib.pyplot as plt\n",
    "\n",
    "loss_histories_train = []\n",
    "loss_histories_test = []\n",
    "\n",
    "alphas = [0.01, 0.1, 1]\n",
    "regLambdas = [0.4, 0.4, 4]\n",
    "\n",
    "# Single loop over the product of alphas and regLambdas\n",
    "for alpha, regLambda in itertools.product(alphas, regLambdas):\n",
    "    # Train + Loss\n",
    "    theta, loss_history_train = fit(X_train, Y_train, alpha=alpha, regLambda=regLambda)\n",
    "    loss_history_test = computeCost(theta, X_test, Y_test, regLambda)            \n",
    "    loss_histories_train.append(loss_history_train)\n",
    "    loss_histories_test.append(loss_history_test)\n",
    "\n",
    "plt.figure(figsize=(12,9))\n",
    "# Plotting\n",
    "for i, (alpha, regLambda) in enumerate(itertools.product(alphas, regLambdas)):\n",
    "    label = f'Learning Rate: {alpha}, Regularization: {regLambda}'\n",
    "    plt.plot(loss_histories_train[i], label=label + ' (Train)')\n",
    "    plt.plot([loss_histories_test[i]] * len(loss_histories_train[i]), '--', label=label + ' (Test)')\n",
    "\n",
    "plt.xlabel('Iteration')\n",
    "plt.ylabel('Loss')\n",
    "plt.title('Training and Test Loss')\n",
    "plt.legend()\n",
    "plt.show()\n"
   ]
  },
  {
   "cell_type": "markdown",
   "id": "11babf15",
   "metadata": {},
   "source": [
    "## Naive Bayes\n",
    "\n",
    "In this part, you will use the `GaussianNB` classifier to classify the data. You should not change the default parameters of this classifier. First, train the classifier on the training set and then find the accuracy of it on the test set.\n",
    "\n",
    "**Question**: What is the accuracy of this method on test set?\n",
    "\n",
    "**Answer**: 0.9255"
   ]
  },
  {
   "cell_type": "code",
   "execution_count": 147,
   "id": "1ef450fb",
   "metadata": {
    "metadata": {}
   },
   "outputs": [
    {
     "name": "stdout",
     "output_type": "stream",
     "text": [
      "accuracy is: 0.925500\n"
     ]
    }
   ],
   "source": [
    "### START CODE HERE ###\n",
    "data = pd.read_csv('data_logistic.csv')\n",
    "X = data.drop('Y', axis=1)\n",
    "Y = data['Y']\n",
    "\n",
    "X_train, X_test, y_train, y_test = train_test_split(X, Y, test_size=0.2, random_state=67)\n",
    "gaussianmodel = GaussianNB()\n",
    "gaussianmodel.fit(X_train, y_train)\n",
    "\n",
    "y_test_pred = gaussianmodel.predict(X_test)\n",
    "accuracy = accuracy_score(y_true=y_test, y_pred=y_test_pred)\n",
    "\n",
    "print(f'accuracy is: {accuracy:.6f}')\n",
    "### END CODE HERE ###"
   ]
  },
  {
   "cell_type": "markdown",
   "id": "b371657d",
   "metadata": {},
   "source": [
    "## LDA (Linear Discriminant Analysis)\n",
    "\n",
    "In this part, you will use the `LinearDiscriminantAnalysis` classifier to classify the data. You should not change the default parameters of this classifier. First, train the classifier on the training set and then find the accuracy of it on the test set.\n",
    "\n",
    "**Question**: What is the accuracy of this method on test set?\n",
    "\n",
    "**Answer**: 0.9935"
   ]
  },
  {
   "cell_type": "code",
   "execution_count": 148,
   "id": "92cc8743",
   "metadata": {
    "metadata": {}
   },
   "outputs": [
    {
     "name": "stdout",
     "output_type": "stream",
     "text": [
      "accuracy is: 0.993500\n"
     ]
    }
   ],
   "source": [
    "### START CODE HERE ###\n",
    "data = pd.read_csv('data_logistic.csv')\n",
    "X = data.drop('Y', axis=1)\n",
    "Y = data['Y']\n",
    "\n",
    "X_train, X_test, y_train, y_test = train_test_split(X, Y, test_size=0.2, random_state=67)\n",
    "LDA_model = LinearDiscriminantAnalysis()\n",
    "LDA_model.fit(X_train, y_train)\n",
    "\n",
    "y_test_pred = LDA_model.predict(X_test)\n",
    "accuracy = accuracy_score(y_true=y_test, y_pred=y_test_pred)\n",
    "\n",
    "print(f'accuracy is: {accuracy:.6f}')\n",
    "### END CODE HERE ###"
   ]
  },
  {
   "cell_type": "markdown",
   "id": "47736bdf",
   "metadata": {},
   "source": [
    "## Conclution\n",
    "\n",
    "**Question**: What is the best method for classifying this dataset? What is the best accuracy on the test set?\n",
    "\n",
    "**Answer**:\n",
    "LDA outperformed GNB for classifying the dataset. LDA achieved an accuracy of *99.20%* on the test set, while GNB achieved a lower accuracy of *93.10%*.\n"
   ]
  }
 ],
 "metadata": {
  "kernelspec": {
   "display_name": "Python 3 (ipykernel)",
   "language": "python",
   "name": "python3"
  },
  "language_info": {
   "codemirror_mode": {
    "name": "ipython",
    "version": 3
   },
   "file_extension": ".py",
   "mimetype": "text/x-python",
   "name": "python",
   "nbconvert_exporter": "python",
   "pygments_lexer": "ipython3",
   "version": "3.10.5"
  }
 },
 "nbformat": 4,
 "nbformat_minor": 5
}
